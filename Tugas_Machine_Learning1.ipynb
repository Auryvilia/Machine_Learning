{
  "nbformat": 4,
  "nbformat_minor": 0,
  "metadata": {
    "colab": {
      "provenance": [],
      "authorship_tag": "ABX9TyMlkYWWmvXO41rSkPQrc47d",
      "include_colab_link": true
    },
    "kernelspec": {
      "name": "python3",
      "display_name": "Python 3"
    },
    "language_info": {
      "name": "python"
    }
  },
  "cells": [
    {
      "cell_type": "markdown",
      "metadata": {
        "id": "view-in-github",
        "colab_type": "text"
      },
      "source": [
        "<a href=\"https://colab.research.google.com/github/Auryvilia/Machine_Learning/blob/main/Tugas_Machine_Learning1.ipynb\" target=\"_parent\"><img src=\"https://colab.research.google.com/assets/colab-badge.svg\" alt=\"Open In Colab\"/></a>"
      ]
    },
    {
      "cell_type": "code",
      "execution_count": null,
      "metadata": {
        "id": "Gjsg2AI-Q9GU"
      },
      "outputs": [],
      "source": [
        "import pandas as pd\n",
        "import numpy as np\n",
        "import matplotlib.pyplot as plt\n",
        "import seaborn as sns\n",
        "from sklearn.preprocessing import LabelEncoder\n",
        "from sklearn.model_selection import train_test_split\n",
        "from sklearn.preprocessing import MinMaxScaler\n",
        "from sklearn.metrics import confusion_matrix, classification_report, f1_score, accuracy_score, recall_score, precision_score\n",
        "from keras.models import Sequential\n",
        "from keras.utils import to_categorical\n",
        "from keras.losses import CategoricalCrossentropy\n",
        "from keras.optimizers import Nadam\n",
        "from keras.layers import Dense,Input, BatchNormalization\n",
        "from keras.callbacks import EarlyStopping, ReduceLROnPlateau"
      ]
    },
    {
      "cell_type": "markdown",
      "source": [
        "Penjelasan:\n",
        "1. pandas digunakan untuk manipulasi dan analisis data tabular.\n",
        "2. numpy untuk operasi array multidimensi.\n",
        "3. matplotlib dan seaborn untuk visualisasi data.\n",
        "4. LabelEncoder untuk mengubah label kategori menjadi format numerik.\n",
        "5. train_test_split untuk membagi dataset menjadi data pelatihan dan pengujian.\n",
        "6. MinMaxScaler untuk skala data agar nilai berada dalam rentang tertentu.\n",
        "7. Metric seperti confusion_matrix, classification_report, f1_score, dll. digunakan untuk mengevaluasi performa model.\n",
        "8. Sequential dari Keras digunakan untuk membangun arsitektur model deep learning."
      ],
      "metadata": {
        "id": "j50A-1LGl3AN"
      }
    },
    {
      "cell_type": "code",
      "source": [
        "df = pd.read_csv('loan_data.csv')\n",
        "df.head()"
      ],
      "metadata": {
        "colab": {
          "base_uri": "https://localhost:8080/",
          "height": 226
        },
        "id": "whDi18vBRUpp",
        "outputId": "46e211a2-d1c7-4f59-e7cf-f6832c2dba53"
      },
      "execution_count": null,
      "outputs": [
        {
          "output_type": "execute_result",
          "data": {
            "text/plain": [
              "   person_age person_gender person_education  person_income  person_emp_exp  \\\n",
              "0        22.0        female           Master        71948.0               0   \n",
              "1        21.0        female      High School        12282.0               0   \n",
              "2        25.0        female      High School        12438.0               3   \n",
              "3        23.0        female         Bachelor        79753.0               0   \n",
              "4        24.0          male           Master        66135.0               1   \n",
              "\n",
              "  person_home_ownership  loan_amnt loan_intent  loan_int_rate  \\\n",
              "0                  RENT    35000.0    PERSONAL          16.02   \n",
              "1                   OWN     1000.0   EDUCATION          11.14   \n",
              "2              MORTGAGE     5500.0     MEDICAL          12.87   \n",
              "3                  RENT    35000.0     MEDICAL          15.23   \n",
              "4                  RENT    35000.0     MEDICAL          14.27   \n",
              "\n",
              "   loan_percent_income  cb_person_cred_hist_length  credit_score  \\\n",
              "0                 0.49                         3.0           561   \n",
              "1                 0.08                         2.0           504   \n",
              "2                 0.44                         3.0           635   \n",
              "3                 0.44                         2.0           675   \n",
              "4                 0.53                         4.0           586   \n",
              "\n",
              "  previous_loan_defaults_on_file  loan_status  \n",
              "0                             No            1  \n",
              "1                            Yes            0  \n",
              "2                             No            1  \n",
              "3                             No            1  \n",
              "4                             No            1  "
            ],
            "text/html": [
              "\n",
              "  <div id=\"df-bade4ed7-8159-40df-a4ba-d0368ed7ac81\" class=\"colab-df-container\">\n",
              "    <div>\n",
              "<style scoped>\n",
              "    .dataframe tbody tr th:only-of-type {\n",
              "        vertical-align: middle;\n",
              "    }\n",
              "\n",
              "    .dataframe tbody tr th {\n",
              "        vertical-align: top;\n",
              "    }\n",
              "\n",
              "    .dataframe thead th {\n",
              "        text-align: right;\n",
              "    }\n",
              "</style>\n",
              "<table border=\"1\" class=\"dataframe\">\n",
              "  <thead>\n",
              "    <tr style=\"text-align: right;\">\n",
              "      <th></th>\n",
              "      <th>person_age</th>\n",
              "      <th>person_gender</th>\n",
              "      <th>person_education</th>\n",
              "      <th>person_income</th>\n",
              "      <th>person_emp_exp</th>\n",
              "      <th>person_home_ownership</th>\n",
              "      <th>loan_amnt</th>\n",
              "      <th>loan_intent</th>\n",
              "      <th>loan_int_rate</th>\n",
              "      <th>loan_percent_income</th>\n",
              "      <th>cb_person_cred_hist_length</th>\n",
              "      <th>credit_score</th>\n",
              "      <th>previous_loan_defaults_on_file</th>\n",
              "      <th>loan_status</th>\n",
              "    </tr>\n",
              "  </thead>\n",
              "  <tbody>\n",
              "    <tr>\n",
              "      <th>0</th>\n",
              "      <td>22.0</td>\n",
              "      <td>female</td>\n",
              "      <td>Master</td>\n",
              "      <td>71948.0</td>\n",
              "      <td>0</td>\n",
              "      <td>RENT</td>\n",
              "      <td>35000.0</td>\n",
              "      <td>PERSONAL</td>\n",
              "      <td>16.02</td>\n",
              "      <td>0.49</td>\n",
              "      <td>3.0</td>\n",
              "      <td>561</td>\n",
              "      <td>No</td>\n",
              "      <td>1</td>\n",
              "    </tr>\n",
              "    <tr>\n",
              "      <th>1</th>\n",
              "      <td>21.0</td>\n",
              "      <td>female</td>\n",
              "      <td>High School</td>\n",
              "      <td>12282.0</td>\n",
              "      <td>0</td>\n",
              "      <td>OWN</td>\n",
              "      <td>1000.0</td>\n",
              "      <td>EDUCATION</td>\n",
              "      <td>11.14</td>\n",
              "      <td>0.08</td>\n",
              "      <td>2.0</td>\n",
              "      <td>504</td>\n",
              "      <td>Yes</td>\n",
              "      <td>0</td>\n",
              "    </tr>\n",
              "    <tr>\n",
              "      <th>2</th>\n",
              "      <td>25.0</td>\n",
              "      <td>female</td>\n",
              "      <td>High School</td>\n",
              "      <td>12438.0</td>\n",
              "      <td>3</td>\n",
              "      <td>MORTGAGE</td>\n",
              "      <td>5500.0</td>\n",
              "      <td>MEDICAL</td>\n",
              "      <td>12.87</td>\n",
              "      <td>0.44</td>\n",
              "      <td>3.0</td>\n",
              "      <td>635</td>\n",
              "      <td>No</td>\n",
              "      <td>1</td>\n",
              "    </tr>\n",
              "    <tr>\n",
              "      <th>3</th>\n",
              "      <td>23.0</td>\n",
              "      <td>female</td>\n",
              "      <td>Bachelor</td>\n",
              "      <td>79753.0</td>\n",
              "      <td>0</td>\n",
              "      <td>RENT</td>\n",
              "      <td>35000.0</td>\n",
              "      <td>MEDICAL</td>\n",
              "      <td>15.23</td>\n",
              "      <td>0.44</td>\n",
              "      <td>2.0</td>\n",
              "      <td>675</td>\n",
              "      <td>No</td>\n",
              "      <td>1</td>\n",
              "    </tr>\n",
              "    <tr>\n",
              "      <th>4</th>\n",
              "      <td>24.0</td>\n",
              "      <td>male</td>\n",
              "      <td>Master</td>\n",
              "      <td>66135.0</td>\n",
              "      <td>1</td>\n",
              "      <td>RENT</td>\n",
              "      <td>35000.0</td>\n",
              "      <td>MEDICAL</td>\n",
              "      <td>14.27</td>\n",
              "      <td>0.53</td>\n",
              "      <td>4.0</td>\n",
              "      <td>586</td>\n",
              "      <td>No</td>\n",
              "      <td>1</td>\n",
              "    </tr>\n",
              "  </tbody>\n",
              "</table>\n",
              "</div>\n",
              "    <div class=\"colab-df-buttons\">\n",
              "\n",
              "  <div class=\"colab-df-container\">\n",
              "    <button class=\"colab-df-convert\" onclick=\"convertToInteractive('df-bade4ed7-8159-40df-a4ba-d0368ed7ac81')\"\n",
              "            title=\"Convert this dataframe to an interactive table.\"\n",
              "            style=\"display:none;\">\n",
              "\n",
              "  <svg xmlns=\"http://www.w3.org/2000/svg\" height=\"24px\" viewBox=\"0 -960 960 960\">\n",
              "    <path d=\"M120-120v-720h720v720H120Zm60-500h600v-160H180v160Zm220 220h160v-160H400v160Zm0 220h160v-160H400v160ZM180-400h160v-160H180v160Zm440 0h160v-160H620v160ZM180-180h160v-160H180v160Zm440 0h160v-160H620v160Z\"/>\n",
              "  </svg>\n",
              "    </button>\n",
              "\n",
              "  <style>\n",
              "    .colab-df-container {\n",
              "      display:flex;\n",
              "      gap: 12px;\n",
              "    }\n",
              "\n",
              "    .colab-df-convert {\n",
              "      background-color: #E8F0FE;\n",
              "      border: none;\n",
              "      border-radius: 50%;\n",
              "      cursor: pointer;\n",
              "      display: none;\n",
              "      fill: #1967D2;\n",
              "      height: 32px;\n",
              "      padding: 0 0 0 0;\n",
              "      width: 32px;\n",
              "    }\n",
              "\n",
              "    .colab-df-convert:hover {\n",
              "      background-color: #E2EBFA;\n",
              "      box-shadow: 0px 1px 2px rgba(60, 64, 67, 0.3), 0px 1px 3px 1px rgba(60, 64, 67, 0.15);\n",
              "      fill: #174EA6;\n",
              "    }\n",
              "\n",
              "    .colab-df-buttons div {\n",
              "      margin-bottom: 4px;\n",
              "    }\n",
              "\n",
              "    [theme=dark] .colab-df-convert {\n",
              "      background-color: #3B4455;\n",
              "      fill: #D2E3FC;\n",
              "    }\n",
              "\n",
              "    [theme=dark] .colab-df-convert:hover {\n",
              "      background-color: #434B5C;\n",
              "      box-shadow: 0px 1px 3px 1px rgba(0, 0, 0, 0.15);\n",
              "      filter: drop-shadow(0px 1px 2px rgba(0, 0, 0, 0.3));\n",
              "      fill: #FFFFFF;\n",
              "    }\n",
              "  </style>\n",
              "\n",
              "    <script>\n",
              "      const buttonEl =\n",
              "        document.querySelector('#df-bade4ed7-8159-40df-a4ba-d0368ed7ac81 button.colab-df-convert');\n",
              "      buttonEl.style.display =\n",
              "        google.colab.kernel.accessAllowed ? 'block' : 'none';\n",
              "\n",
              "      async function convertToInteractive(key) {\n",
              "        const element = document.querySelector('#df-bade4ed7-8159-40df-a4ba-d0368ed7ac81');\n",
              "        const dataTable =\n",
              "          await google.colab.kernel.invokeFunction('convertToInteractive',\n",
              "                                                    [key], {});\n",
              "        if (!dataTable) return;\n",
              "\n",
              "        const docLinkHtml = 'Like what you see? Visit the ' +\n",
              "          '<a target=\"_blank\" href=https://colab.research.google.com/notebooks/data_table.ipynb>data table notebook</a>'\n",
              "          + ' to learn more about interactive tables.';\n",
              "        element.innerHTML = '';\n",
              "        dataTable['output_type'] = 'display_data';\n",
              "        await google.colab.output.renderOutput(dataTable, element);\n",
              "        const docLink = document.createElement('div');\n",
              "        docLink.innerHTML = docLinkHtml;\n",
              "        element.appendChild(docLink);\n",
              "      }\n",
              "    </script>\n",
              "  </div>\n",
              "\n",
              "\n",
              "<div id=\"df-6ebdfdef-403a-4271-a6df-4a2ff136828a\">\n",
              "  <button class=\"colab-df-quickchart\" onclick=\"quickchart('df-6ebdfdef-403a-4271-a6df-4a2ff136828a')\"\n",
              "            title=\"Suggest charts\"\n",
              "            style=\"display:none;\">\n",
              "\n",
              "<svg xmlns=\"http://www.w3.org/2000/svg\" height=\"24px\"viewBox=\"0 0 24 24\"\n",
              "     width=\"24px\">\n",
              "    <g>\n",
              "        <path d=\"M19 3H5c-1.1 0-2 .9-2 2v14c0 1.1.9 2 2 2h14c1.1 0 2-.9 2-2V5c0-1.1-.9-2-2-2zM9 17H7v-7h2v7zm4 0h-2V7h2v10zm4 0h-2v-4h2v4z\"/>\n",
              "    </g>\n",
              "</svg>\n",
              "  </button>\n",
              "\n",
              "<style>\n",
              "  .colab-df-quickchart {\n",
              "      --bg-color: #E8F0FE;\n",
              "      --fill-color: #1967D2;\n",
              "      --hover-bg-color: #E2EBFA;\n",
              "      --hover-fill-color: #174EA6;\n",
              "      --disabled-fill-color: #AAA;\n",
              "      --disabled-bg-color: #DDD;\n",
              "  }\n",
              "\n",
              "  [theme=dark] .colab-df-quickchart {\n",
              "      --bg-color: #3B4455;\n",
              "      --fill-color: #D2E3FC;\n",
              "      --hover-bg-color: #434B5C;\n",
              "      --hover-fill-color: #FFFFFF;\n",
              "      --disabled-bg-color: #3B4455;\n",
              "      --disabled-fill-color: #666;\n",
              "  }\n",
              "\n",
              "  .colab-df-quickchart {\n",
              "    background-color: var(--bg-color);\n",
              "    border: none;\n",
              "    border-radius: 50%;\n",
              "    cursor: pointer;\n",
              "    display: none;\n",
              "    fill: var(--fill-color);\n",
              "    height: 32px;\n",
              "    padding: 0;\n",
              "    width: 32px;\n",
              "  }\n",
              "\n",
              "  .colab-df-quickchart:hover {\n",
              "    background-color: var(--hover-bg-color);\n",
              "    box-shadow: 0 1px 2px rgba(60, 64, 67, 0.3), 0 1px 3px 1px rgba(60, 64, 67, 0.15);\n",
              "    fill: var(--button-hover-fill-color);\n",
              "  }\n",
              "\n",
              "  .colab-df-quickchart-complete:disabled,\n",
              "  .colab-df-quickchart-complete:disabled:hover {\n",
              "    background-color: var(--disabled-bg-color);\n",
              "    fill: var(--disabled-fill-color);\n",
              "    box-shadow: none;\n",
              "  }\n",
              "\n",
              "  .colab-df-spinner {\n",
              "    border: 2px solid var(--fill-color);\n",
              "    border-color: transparent;\n",
              "    border-bottom-color: var(--fill-color);\n",
              "    animation:\n",
              "      spin 1s steps(1) infinite;\n",
              "  }\n",
              "\n",
              "  @keyframes spin {\n",
              "    0% {\n",
              "      border-color: transparent;\n",
              "      border-bottom-color: var(--fill-color);\n",
              "      border-left-color: var(--fill-color);\n",
              "    }\n",
              "    20% {\n",
              "      border-color: transparent;\n",
              "      border-left-color: var(--fill-color);\n",
              "      border-top-color: var(--fill-color);\n",
              "    }\n",
              "    30% {\n",
              "      border-color: transparent;\n",
              "      border-left-color: var(--fill-color);\n",
              "      border-top-color: var(--fill-color);\n",
              "      border-right-color: var(--fill-color);\n",
              "    }\n",
              "    40% {\n",
              "      border-color: transparent;\n",
              "      border-right-color: var(--fill-color);\n",
              "      border-top-color: var(--fill-color);\n",
              "    }\n",
              "    60% {\n",
              "      border-color: transparent;\n",
              "      border-right-color: var(--fill-color);\n",
              "    }\n",
              "    80% {\n",
              "      border-color: transparent;\n",
              "      border-right-color: var(--fill-color);\n",
              "      border-bottom-color: var(--fill-color);\n",
              "    }\n",
              "    90% {\n",
              "      border-color: transparent;\n",
              "      border-bottom-color: var(--fill-color);\n",
              "    }\n",
              "  }\n",
              "</style>\n",
              "\n",
              "  <script>\n",
              "    async function quickchart(key) {\n",
              "      const quickchartButtonEl =\n",
              "        document.querySelector('#' + key + ' button');\n",
              "      quickchartButtonEl.disabled = true;  // To prevent multiple clicks.\n",
              "      quickchartButtonEl.classList.add('colab-df-spinner');\n",
              "      try {\n",
              "        const charts = await google.colab.kernel.invokeFunction(\n",
              "            'suggestCharts', [key], {});\n",
              "      } catch (error) {\n",
              "        console.error('Error during call to suggestCharts:', error);\n",
              "      }\n",
              "      quickchartButtonEl.classList.remove('colab-df-spinner');\n",
              "      quickchartButtonEl.classList.add('colab-df-quickchart-complete');\n",
              "    }\n",
              "    (() => {\n",
              "      let quickchartButtonEl =\n",
              "        document.querySelector('#df-6ebdfdef-403a-4271-a6df-4a2ff136828a button');\n",
              "      quickchartButtonEl.style.display =\n",
              "        google.colab.kernel.accessAllowed ? 'block' : 'none';\n",
              "    })();\n",
              "  </script>\n",
              "</div>\n",
              "\n",
              "    </div>\n",
              "  </div>\n"
            ],
            "application/vnd.google.colaboratory.intrinsic+json": {
              "type": "dataframe",
              "variable_name": "df",
              "summary": "{\n  \"name\": \"df\",\n  \"rows\": 45000,\n  \"fields\": [\n    {\n      \"column\": \"person_age\",\n      \"properties\": {\n        \"dtype\": \"number\",\n        \"std\": 6.045108211348622,\n        \"min\": 20.0,\n        \"max\": 144.0,\n        \"num_unique_values\": 60,\n        \"samples\": [\n          22.0,\n          26.0,\n          53.0\n        ],\n        \"semantic_type\": \"\",\n        \"description\": \"\"\n      }\n    },\n    {\n      \"column\": \"person_gender\",\n      \"properties\": {\n        \"dtype\": \"category\",\n        \"num_unique_values\": 2,\n        \"samples\": [\n          \"male\",\n          \"female\"\n        ],\n        \"semantic_type\": \"\",\n        \"description\": \"\"\n      }\n    },\n    {\n      \"column\": \"person_education\",\n      \"properties\": {\n        \"dtype\": \"category\",\n        \"num_unique_values\": 5,\n        \"samples\": [\n          \"High School\",\n          \"Doctorate\"\n        ],\n        \"semantic_type\": \"\",\n        \"description\": \"\"\n      }\n    },\n    {\n      \"column\": \"person_income\",\n      \"properties\": {\n        \"dtype\": \"number\",\n        \"std\": 80422.49863189556,\n        \"min\": 8000.0,\n        \"max\": 7200766.0,\n        \"num_unique_values\": 33989,\n        \"samples\": [\n          48967.0,\n          31001.0\n        ],\n        \"semantic_type\": \"\",\n        \"description\": \"\"\n      }\n    },\n    {\n      \"column\": \"person_emp_exp\",\n      \"properties\": {\n        \"dtype\": \"number\",\n        \"std\": 6,\n        \"min\": 0,\n        \"max\": 125,\n        \"num_unique_values\": 63,\n        \"samples\": [\n          93,\n          76\n        ],\n        \"semantic_type\": \"\",\n        \"description\": \"\"\n      }\n    },\n    {\n      \"column\": \"person_home_ownership\",\n      \"properties\": {\n        \"dtype\": \"category\",\n        \"num_unique_values\": 4,\n        \"samples\": [\n          \"OWN\",\n          \"OTHER\"\n        ],\n        \"semantic_type\": \"\",\n        \"description\": \"\"\n      }\n    },\n    {\n      \"column\": \"loan_amnt\",\n      \"properties\": {\n        \"dtype\": \"number\",\n        \"std\": 6314.8866905411405,\n        \"min\": 500.0,\n        \"max\": 35000.0,\n        \"num_unique_values\": 4483,\n        \"samples\": [\n          5800.0,\n          28338.0\n        ],\n        \"semantic_type\": \"\",\n        \"description\": \"\"\n      }\n    },\n    {\n      \"column\": \"loan_intent\",\n      \"properties\": {\n        \"dtype\": \"category\",\n        \"num_unique_values\": 6,\n        \"samples\": [\n          \"PERSONAL\",\n          \"EDUCATION\"\n        ],\n        \"semantic_type\": \"\",\n        \"description\": \"\"\n      }\n    },\n    {\n      \"column\": \"loan_int_rate\",\n      \"properties\": {\n        \"dtype\": \"number\",\n        \"std\": 2.9788082802254734,\n        \"min\": 5.42,\n        \"max\": 20.0,\n        \"num_unique_values\": 1302,\n        \"samples\": [\n          15.0,\n          13.45\n        ],\n        \"semantic_type\": \"\",\n        \"description\": \"\"\n      }\n    },\n    {\n      \"column\": \"loan_percent_income\",\n      \"properties\": {\n        \"dtype\": \"number\",\n        \"std\": 0.08721230801403355,\n        \"min\": 0.0,\n        \"max\": 0.66,\n        \"num_unique_values\": 64,\n        \"samples\": [\n          0.45,\n          0.54\n        ],\n        \"semantic_type\": \"\",\n        \"description\": \"\"\n      }\n    },\n    {\n      \"column\": \"cb_person_cred_hist_length\",\n      \"properties\": {\n        \"dtype\": \"number\",\n        \"std\": 3.8797018451620433,\n        \"min\": 2.0,\n        \"max\": 30.0,\n        \"num_unique_values\": 29,\n        \"samples\": [\n          24.0,\n          25.0\n        ],\n        \"semantic_type\": \"\",\n        \"description\": \"\"\n      }\n    },\n    {\n      \"column\": \"credit_score\",\n      \"properties\": {\n        \"dtype\": \"number\",\n        \"std\": 50,\n        \"min\": 390,\n        \"max\": 850,\n        \"num_unique_values\": 340,\n        \"samples\": [\n          492,\n          484\n        ],\n        \"semantic_type\": \"\",\n        \"description\": \"\"\n      }\n    },\n    {\n      \"column\": \"previous_loan_defaults_on_file\",\n      \"properties\": {\n        \"dtype\": \"category\",\n        \"num_unique_values\": 2,\n        \"samples\": [\n          \"Yes\",\n          \"No\"\n        ],\n        \"semantic_type\": \"\",\n        \"description\": \"\"\n      }\n    },\n    {\n      \"column\": \"loan_status\",\n      \"properties\": {\n        \"dtype\": \"number\",\n        \"std\": 0,\n        \"min\": 0,\n        \"max\": 1,\n        \"num_unique_values\": 2,\n        \"samples\": [\n          0,\n          1\n        ],\n        \"semantic_type\": \"\",\n        \"description\": \"\"\n      }\n    }\n  ]\n}"
            }
          },
          "metadata": {},
          "execution_count": 2
        }
      ]
    },
    {
      "cell_type": "markdown",
      "source": [
        "Penjelasan:\n",
        "`df = pd.read_csv('loan_data.csv')` membaca data dari file CSV menjadi DataFrame, dan `df.head()` menampilkan 5 baris pertama dari data tersebut."
      ],
      "metadata": {
        "id": "7zONgh9bl_rB"
      }
    },
    {
      "cell_type": "code",
      "source": [
        "df.info()"
      ],
      "metadata": {
        "colab": {
          "base_uri": "https://localhost:8080/"
        },
        "id": "98EDcCb2RinR",
        "outputId": "afdbdabf-ee5d-4659-8019-d098fbc725b1"
      },
      "execution_count": null,
      "outputs": [
        {
          "output_type": "stream",
          "name": "stdout",
          "text": [
            "<class 'pandas.core.frame.DataFrame'>\n",
            "RangeIndex: 45000 entries, 0 to 44999\n",
            "Data columns (total 14 columns):\n",
            " #   Column                          Non-Null Count  Dtype  \n",
            "---  ------                          --------------  -----  \n",
            " 0   person_age                      45000 non-null  float64\n",
            " 1   person_gender                   45000 non-null  object \n",
            " 2   person_education                45000 non-null  object \n",
            " 3   person_income                   45000 non-null  float64\n",
            " 4   person_emp_exp                  45000 non-null  int64  \n",
            " 5   person_home_ownership           45000 non-null  object \n",
            " 6   loan_amnt                       45000 non-null  float64\n",
            " 7   loan_intent                     45000 non-null  object \n",
            " 8   loan_int_rate                   45000 non-null  float64\n",
            " 9   loan_percent_income             45000 non-null  float64\n",
            " 10  cb_person_cred_hist_length      45000 non-null  float64\n",
            " 11  credit_score                    45000 non-null  int64  \n",
            " 12  previous_loan_defaults_on_file  45000 non-null  object \n",
            " 13  loan_status                     45000 non-null  int64  \n",
            "dtypes: float64(6), int64(3), object(5)\n",
            "memory usage: 4.8+ MB\n"
          ]
        }
      ]
    },
    {
      "cell_type": "markdown",
      "source": [
        "Penjelasan:\n",
        "`df.info()` menampilkan informasi tentang DataFrame seperti jumlah baris, tipe data setiap kolom, jumlah nilai non-null, dan penggunaan memori."
      ],
      "metadata": {
        "id": "3FY68i4hmIKj"
      }
    },
    {
      "cell_type": "code",
      "source": [
        "df.isnull().sum()"
      ],
      "metadata": {
        "colab": {
          "base_uri": "https://localhost:8080/",
          "height": 523
        },
        "id": "J6W4laqwRqXy",
        "outputId": "f027daab-8839-495c-875c-1c376f09c4e2"
      },
      "execution_count": null,
      "outputs": [
        {
          "output_type": "execute_result",
          "data": {
            "text/plain": [
              "person_age                        0\n",
              "person_gender                     0\n",
              "person_education                  0\n",
              "person_income                     0\n",
              "person_emp_exp                    0\n",
              "person_home_ownership             0\n",
              "loan_amnt                         0\n",
              "loan_intent                       0\n",
              "loan_int_rate                     0\n",
              "loan_percent_income               0\n",
              "cb_person_cred_hist_length        0\n",
              "credit_score                      0\n",
              "previous_loan_defaults_on_file    0\n",
              "loan_status                       0\n",
              "dtype: int64"
            ],
            "text/html": [
              "<div>\n",
              "<style scoped>\n",
              "    .dataframe tbody tr th:only-of-type {\n",
              "        vertical-align: middle;\n",
              "    }\n",
              "\n",
              "    .dataframe tbody tr th {\n",
              "        vertical-align: top;\n",
              "    }\n",
              "\n",
              "    .dataframe thead th {\n",
              "        text-align: right;\n",
              "    }\n",
              "</style>\n",
              "<table border=\"1\" class=\"dataframe\">\n",
              "  <thead>\n",
              "    <tr style=\"text-align: right;\">\n",
              "      <th></th>\n",
              "      <th>0</th>\n",
              "    </tr>\n",
              "  </thead>\n",
              "  <tbody>\n",
              "    <tr>\n",
              "      <th>person_age</th>\n",
              "      <td>0</td>\n",
              "    </tr>\n",
              "    <tr>\n",
              "      <th>person_gender</th>\n",
              "      <td>0</td>\n",
              "    </tr>\n",
              "    <tr>\n",
              "      <th>person_education</th>\n",
              "      <td>0</td>\n",
              "    </tr>\n",
              "    <tr>\n",
              "      <th>person_income</th>\n",
              "      <td>0</td>\n",
              "    </tr>\n",
              "    <tr>\n",
              "      <th>person_emp_exp</th>\n",
              "      <td>0</td>\n",
              "    </tr>\n",
              "    <tr>\n",
              "      <th>person_home_ownership</th>\n",
              "      <td>0</td>\n",
              "    </tr>\n",
              "    <tr>\n",
              "      <th>loan_amnt</th>\n",
              "      <td>0</td>\n",
              "    </tr>\n",
              "    <tr>\n",
              "      <th>loan_intent</th>\n",
              "      <td>0</td>\n",
              "    </tr>\n",
              "    <tr>\n",
              "      <th>loan_int_rate</th>\n",
              "      <td>0</td>\n",
              "    </tr>\n",
              "    <tr>\n",
              "      <th>loan_percent_income</th>\n",
              "      <td>0</td>\n",
              "    </tr>\n",
              "    <tr>\n",
              "      <th>cb_person_cred_hist_length</th>\n",
              "      <td>0</td>\n",
              "    </tr>\n",
              "    <tr>\n",
              "      <th>credit_score</th>\n",
              "      <td>0</td>\n",
              "    </tr>\n",
              "    <tr>\n",
              "      <th>previous_loan_defaults_on_file</th>\n",
              "      <td>0</td>\n",
              "    </tr>\n",
              "    <tr>\n",
              "      <th>loan_status</th>\n",
              "      <td>0</td>\n",
              "    </tr>\n",
              "  </tbody>\n",
              "</table>\n",
              "</div><br><label><b>dtype:</b> int64</label>"
            ]
          },
          "metadata": {},
          "execution_count": 4
        }
      ]
    },
    {
      "cell_type": "markdown",
      "source": [
        "Penjelasan:\n",
        "`df.isnull().sum()` menghitung jumlah nilai `NaN` (hilang) di setiap kolom dalam DataFrame."
      ],
      "metadata": {
        "id": "MGrA-97bmSvm"
      }
    },
    {
      "cell_type": "code",
      "source": [
        "df.describe().transpose()"
      ],
      "metadata": {
        "colab": {
          "base_uri": "https://localhost:8080/",
          "height": 332
        },
        "id": "-Ut3vxlPR1dG",
        "outputId": "bc646ec0-0d9f-46d1-f9e9-a502124a3aec"
      },
      "execution_count": null,
      "outputs": [
        {
          "output_type": "execute_result",
          "data": {
            "text/plain": [
              "                              count          mean           std      min  \\\n",
              "person_age                  45000.0     27.764178      6.045108    20.00   \n",
              "person_income               45000.0  80319.053222  80422.498632  8000.00   \n",
              "person_emp_exp              45000.0      5.410333      6.063532     0.00   \n",
              "loan_amnt                   45000.0   9583.157556   6314.886691   500.00   \n",
              "loan_int_rate               45000.0     11.006606      2.978808     5.42   \n",
              "loan_percent_income         45000.0      0.139725      0.087212     0.00   \n",
              "cb_person_cred_hist_length  45000.0      5.867489      3.879702     2.00   \n",
              "credit_score                45000.0    632.608756     50.435865   390.00   \n",
              "loan_status                 45000.0      0.222222      0.415744     0.00   \n",
              "\n",
              "                                 25%       50%       75%         max  \n",
              "person_age                     24.00     26.00     30.00      144.00  \n",
              "person_income               47204.00  67048.00  95789.25  7200766.00  \n",
              "person_emp_exp                  1.00      4.00      8.00      125.00  \n",
              "loan_amnt                    5000.00   8000.00  12237.25    35000.00  \n",
              "loan_int_rate                   8.59     11.01     12.99       20.00  \n",
              "loan_percent_income             0.07      0.12      0.19        0.66  \n",
              "cb_person_cred_hist_length      3.00      4.00      8.00       30.00  \n",
              "credit_score                  601.00    640.00    670.00      850.00  \n",
              "loan_status                     0.00      0.00      0.00        1.00  "
            ],
            "text/html": [
              "\n",
              "  <div id=\"df-9b228df1-6c59-4798-a6f3-704e9e0c0121\" class=\"colab-df-container\">\n",
              "    <div>\n",
              "<style scoped>\n",
              "    .dataframe tbody tr th:only-of-type {\n",
              "        vertical-align: middle;\n",
              "    }\n",
              "\n",
              "    .dataframe tbody tr th {\n",
              "        vertical-align: top;\n",
              "    }\n",
              "\n",
              "    .dataframe thead th {\n",
              "        text-align: right;\n",
              "    }\n",
              "</style>\n",
              "<table border=\"1\" class=\"dataframe\">\n",
              "  <thead>\n",
              "    <tr style=\"text-align: right;\">\n",
              "      <th></th>\n",
              "      <th>count</th>\n",
              "      <th>mean</th>\n",
              "      <th>std</th>\n",
              "      <th>min</th>\n",
              "      <th>25%</th>\n",
              "      <th>50%</th>\n",
              "      <th>75%</th>\n",
              "      <th>max</th>\n",
              "    </tr>\n",
              "  </thead>\n",
              "  <tbody>\n",
              "    <tr>\n",
              "      <th>person_age</th>\n",
              "      <td>45000.0</td>\n",
              "      <td>27.764178</td>\n",
              "      <td>6.045108</td>\n",
              "      <td>20.00</td>\n",
              "      <td>24.00</td>\n",
              "      <td>26.00</td>\n",
              "      <td>30.00</td>\n",
              "      <td>144.00</td>\n",
              "    </tr>\n",
              "    <tr>\n",
              "      <th>person_income</th>\n",
              "      <td>45000.0</td>\n",
              "      <td>80319.053222</td>\n",
              "      <td>80422.498632</td>\n",
              "      <td>8000.00</td>\n",
              "      <td>47204.00</td>\n",
              "      <td>67048.00</td>\n",
              "      <td>95789.25</td>\n",
              "      <td>7200766.00</td>\n",
              "    </tr>\n",
              "    <tr>\n",
              "      <th>person_emp_exp</th>\n",
              "      <td>45000.0</td>\n",
              "      <td>5.410333</td>\n",
              "      <td>6.063532</td>\n",
              "      <td>0.00</td>\n",
              "      <td>1.00</td>\n",
              "      <td>4.00</td>\n",
              "      <td>8.00</td>\n",
              "      <td>125.00</td>\n",
              "    </tr>\n",
              "    <tr>\n",
              "      <th>loan_amnt</th>\n",
              "      <td>45000.0</td>\n",
              "      <td>9583.157556</td>\n",
              "      <td>6314.886691</td>\n",
              "      <td>500.00</td>\n",
              "      <td>5000.00</td>\n",
              "      <td>8000.00</td>\n",
              "      <td>12237.25</td>\n",
              "      <td>35000.00</td>\n",
              "    </tr>\n",
              "    <tr>\n",
              "      <th>loan_int_rate</th>\n",
              "      <td>45000.0</td>\n",
              "      <td>11.006606</td>\n",
              "      <td>2.978808</td>\n",
              "      <td>5.42</td>\n",
              "      <td>8.59</td>\n",
              "      <td>11.01</td>\n",
              "      <td>12.99</td>\n",
              "      <td>20.00</td>\n",
              "    </tr>\n",
              "    <tr>\n",
              "      <th>loan_percent_income</th>\n",
              "      <td>45000.0</td>\n",
              "      <td>0.139725</td>\n",
              "      <td>0.087212</td>\n",
              "      <td>0.00</td>\n",
              "      <td>0.07</td>\n",
              "      <td>0.12</td>\n",
              "      <td>0.19</td>\n",
              "      <td>0.66</td>\n",
              "    </tr>\n",
              "    <tr>\n",
              "      <th>cb_person_cred_hist_length</th>\n",
              "      <td>45000.0</td>\n",
              "      <td>5.867489</td>\n",
              "      <td>3.879702</td>\n",
              "      <td>2.00</td>\n",
              "      <td>3.00</td>\n",
              "      <td>4.00</td>\n",
              "      <td>8.00</td>\n",
              "      <td>30.00</td>\n",
              "    </tr>\n",
              "    <tr>\n",
              "      <th>credit_score</th>\n",
              "      <td>45000.0</td>\n",
              "      <td>632.608756</td>\n",
              "      <td>50.435865</td>\n",
              "      <td>390.00</td>\n",
              "      <td>601.00</td>\n",
              "      <td>640.00</td>\n",
              "      <td>670.00</td>\n",
              "      <td>850.00</td>\n",
              "    </tr>\n",
              "    <tr>\n",
              "      <th>loan_status</th>\n",
              "      <td>45000.0</td>\n",
              "      <td>0.222222</td>\n",
              "      <td>0.415744</td>\n",
              "      <td>0.00</td>\n",
              "      <td>0.00</td>\n",
              "      <td>0.00</td>\n",
              "      <td>0.00</td>\n",
              "      <td>1.00</td>\n",
              "    </tr>\n",
              "  </tbody>\n",
              "</table>\n",
              "</div>\n",
              "    <div class=\"colab-df-buttons\">\n",
              "\n",
              "  <div class=\"colab-df-container\">\n",
              "    <button class=\"colab-df-convert\" onclick=\"convertToInteractive('df-9b228df1-6c59-4798-a6f3-704e9e0c0121')\"\n",
              "            title=\"Convert this dataframe to an interactive table.\"\n",
              "            style=\"display:none;\">\n",
              "\n",
              "  <svg xmlns=\"http://www.w3.org/2000/svg\" height=\"24px\" viewBox=\"0 -960 960 960\">\n",
              "    <path d=\"M120-120v-720h720v720H120Zm60-500h600v-160H180v160Zm220 220h160v-160H400v160Zm0 220h160v-160H400v160ZM180-400h160v-160H180v160Zm440 0h160v-160H620v160ZM180-180h160v-160H180v160Zm440 0h160v-160H620v160Z\"/>\n",
              "  </svg>\n",
              "    </button>\n",
              "\n",
              "  <style>\n",
              "    .colab-df-container {\n",
              "      display:flex;\n",
              "      gap: 12px;\n",
              "    }\n",
              "\n",
              "    .colab-df-convert {\n",
              "      background-color: #E8F0FE;\n",
              "      border: none;\n",
              "      border-radius: 50%;\n",
              "      cursor: pointer;\n",
              "      display: none;\n",
              "      fill: #1967D2;\n",
              "      height: 32px;\n",
              "      padding: 0 0 0 0;\n",
              "      width: 32px;\n",
              "    }\n",
              "\n",
              "    .colab-df-convert:hover {\n",
              "      background-color: #E2EBFA;\n",
              "      box-shadow: 0px 1px 2px rgba(60, 64, 67, 0.3), 0px 1px 3px 1px rgba(60, 64, 67, 0.15);\n",
              "      fill: #174EA6;\n",
              "    }\n",
              "\n",
              "    .colab-df-buttons div {\n",
              "      margin-bottom: 4px;\n",
              "    }\n",
              "\n",
              "    [theme=dark] .colab-df-convert {\n",
              "      background-color: #3B4455;\n",
              "      fill: #D2E3FC;\n",
              "    }\n",
              "\n",
              "    [theme=dark] .colab-df-convert:hover {\n",
              "      background-color: #434B5C;\n",
              "      box-shadow: 0px 1px 3px 1px rgba(0, 0, 0, 0.15);\n",
              "      filter: drop-shadow(0px 1px 2px rgba(0, 0, 0, 0.3));\n",
              "      fill: #FFFFFF;\n",
              "    }\n",
              "  </style>\n",
              "\n",
              "    <script>\n",
              "      const buttonEl =\n",
              "        document.querySelector('#df-9b228df1-6c59-4798-a6f3-704e9e0c0121 button.colab-df-convert');\n",
              "      buttonEl.style.display =\n",
              "        google.colab.kernel.accessAllowed ? 'block' : 'none';\n",
              "\n",
              "      async function convertToInteractive(key) {\n",
              "        const element = document.querySelector('#df-9b228df1-6c59-4798-a6f3-704e9e0c0121');\n",
              "        const dataTable =\n",
              "          await google.colab.kernel.invokeFunction('convertToInteractive',\n",
              "                                                    [key], {});\n",
              "        if (!dataTable) return;\n",
              "\n",
              "        const docLinkHtml = 'Like what you see? Visit the ' +\n",
              "          '<a target=\"_blank\" href=https://colab.research.google.com/notebooks/data_table.ipynb>data table notebook</a>'\n",
              "          + ' to learn more about interactive tables.';\n",
              "        element.innerHTML = '';\n",
              "        dataTable['output_type'] = 'display_data';\n",
              "        await google.colab.output.renderOutput(dataTable, element);\n",
              "        const docLink = document.createElement('div');\n",
              "        docLink.innerHTML = docLinkHtml;\n",
              "        element.appendChild(docLink);\n",
              "      }\n",
              "    </script>\n",
              "  </div>\n",
              "\n",
              "\n",
              "<div id=\"df-6ae661aa-2a57-4244-b472-5f0bed34752c\">\n",
              "  <button class=\"colab-df-quickchart\" onclick=\"quickchart('df-6ae661aa-2a57-4244-b472-5f0bed34752c')\"\n",
              "            title=\"Suggest charts\"\n",
              "            style=\"display:none;\">\n",
              "\n",
              "<svg xmlns=\"http://www.w3.org/2000/svg\" height=\"24px\"viewBox=\"0 0 24 24\"\n",
              "     width=\"24px\">\n",
              "    <g>\n",
              "        <path d=\"M19 3H5c-1.1 0-2 .9-2 2v14c0 1.1.9 2 2 2h14c1.1 0 2-.9 2-2V5c0-1.1-.9-2-2-2zM9 17H7v-7h2v7zm4 0h-2V7h2v10zm4 0h-2v-4h2v4z\"/>\n",
              "    </g>\n",
              "</svg>\n",
              "  </button>\n",
              "\n",
              "<style>\n",
              "  .colab-df-quickchart {\n",
              "      --bg-color: #E8F0FE;\n",
              "      --fill-color: #1967D2;\n",
              "      --hover-bg-color: #E2EBFA;\n",
              "      --hover-fill-color: #174EA6;\n",
              "      --disabled-fill-color: #AAA;\n",
              "      --disabled-bg-color: #DDD;\n",
              "  }\n",
              "\n",
              "  [theme=dark] .colab-df-quickchart {\n",
              "      --bg-color: #3B4455;\n",
              "      --fill-color: #D2E3FC;\n",
              "      --hover-bg-color: #434B5C;\n",
              "      --hover-fill-color: #FFFFFF;\n",
              "      --disabled-bg-color: #3B4455;\n",
              "      --disabled-fill-color: #666;\n",
              "  }\n",
              "\n",
              "  .colab-df-quickchart {\n",
              "    background-color: var(--bg-color);\n",
              "    border: none;\n",
              "    border-radius: 50%;\n",
              "    cursor: pointer;\n",
              "    display: none;\n",
              "    fill: var(--fill-color);\n",
              "    height: 32px;\n",
              "    padding: 0;\n",
              "    width: 32px;\n",
              "  }\n",
              "\n",
              "  .colab-df-quickchart:hover {\n",
              "    background-color: var(--hover-bg-color);\n",
              "    box-shadow: 0 1px 2px rgba(60, 64, 67, 0.3), 0 1px 3px 1px rgba(60, 64, 67, 0.15);\n",
              "    fill: var(--button-hover-fill-color);\n",
              "  }\n",
              "\n",
              "  .colab-df-quickchart-complete:disabled,\n",
              "  .colab-df-quickchart-complete:disabled:hover {\n",
              "    background-color: var(--disabled-bg-color);\n",
              "    fill: var(--disabled-fill-color);\n",
              "    box-shadow: none;\n",
              "  }\n",
              "\n",
              "  .colab-df-spinner {\n",
              "    border: 2px solid var(--fill-color);\n",
              "    border-color: transparent;\n",
              "    border-bottom-color: var(--fill-color);\n",
              "    animation:\n",
              "      spin 1s steps(1) infinite;\n",
              "  }\n",
              "\n",
              "  @keyframes spin {\n",
              "    0% {\n",
              "      border-color: transparent;\n",
              "      border-bottom-color: var(--fill-color);\n",
              "      border-left-color: var(--fill-color);\n",
              "    }\n",
              "    20% {\n",
              "      border-color: transparent;\n",
              "      border-left-color: var(--fill-color);\n",
              "      border-top-color: var(--fill-color);\n",
              "    }\n",
              "    30% {\n",
              "      border-color: transparent;\n",
              "      border-left-color: var(--fill-color);\n",
              "      border-top-color: var(--fill-color);\n",
              "      border-right-color: var(--fill-color);\n",
              "    }\n",
              "    40% {\n",
              "      border-color: transparent;\n",
              "      border-right-color: var(--fill-color);\n",
              "      border-top-color: var(--fill-color);\n",
              "    }\n",
              "    60% {\n",
              "      border-color: transparent;\n",
              "      border-right-color: var(--fill-color);\n",
              "    }\n",
              "    80% {\n",
              "      border-color: transparent;\n",
              "      border-right-color: var(--fill-color);\n",
              "      border-bottom-color: var(--fill-color);\n",
              "    }\n",
              "    90% {\n",
              "      border-color: transparent;\n",
              "      border-bottom-color: var(--fill-color);\n",
              "    }\n",
              "  }\n",
              "</style>\n",
              "\n",
              "  <script>\n",
              "    async function quickchart(key) {\n",
              "      const quickchartButtonEl =\n",
              "        document.querySelector('#' + key + ' button');\n",
              "      quickchartButtonEl.disabled = true;  // To prevent multiple clicks.\n",
              "      quickchartButtonEl.classList.add('colab-df-spinner');\n",
              "      try {\n",
              "        const charts = await google.colab.kernel.invokeFunction(\n",
              "            'suggestCharts', [key], {});\n",
              "      } catch (error) {\n",
              "        console.error('Error during call to suggestCharts:', error);\n",
              "      }\n",
              "      quickchartButtonEl.classList.remove('colab-df-spinner');\n",
              "      quickchartButtonEl.classList.add('colab-df-quickchart-complete');\n",
              "    }\n",
              "    (() => {\n",
              "      let quickchartButtonEl =\n",
              "        document.querySelector('#df-6ae661aa-2a57-4244-b472-5f0bed34752c button');\n",
              "      quickchartButtonEl.style.display =\n",
              "        google.colab.kernel.accessAllowed ? 'block' : 'none';\n",
              "    })();\n",
              "  </script>\n",
              "</div>\n",
              "\n",
              "    </div>\n",
              "  </div>\n"
            ],
            "application/vnd.google.colaboratory.intrinsic+json": {
              "type": "dataframe",
              "summary": "{\n  \"name\": \"df\",\n  \"rows\": 9,\n  \"fields\": [\n    {\n      \"column\": \"count\",\n      \"properties\": {\n        \"dtype\": \"number\",\n        \"std\": 0.0,\n        \"min\": 45000.0,\n        \"max\": 45000.0,\n        \"num_unique_values\": 1,\n        \"samples\": [\n          45000.0\n        ],\n        \"semantic_type\": \"\",\n        \"description\": \"\"\n      }\n    },\n    {\n      \"column\": \"mean\",\n      \"properties\": {\n        \"dtype\": \"number\",\n        \"std\": 26532.163764494908,\n        \"min\": 0.1397248888888889,\n        \"max\": 80319.05322222222,\n        \"num_unique_values\": 9,\n        \"samples\": [\n          632.6087555555556\n        ],\n        \"semantic_type\": \"\",\n        \"description\": \"\"\n      }\n    },\n    {\n      \"column\": \"std\",\n      \"properties\": {\n        \"dtype\": \"number\",\n        \"std\": 26623.25181267656,\n        \"min\": 0.08721230801403355,\n        \"max\": 80422.49863189556,\n        \"num_unique_values\": 9,\n        \"samples\": [\n          50.435865000741984\n        ],\n        \"semantic_type\": \"\",\n        \"description\": \"\"\n      }\n    },\n    {\n      \"column\": \"min\",\n      \"properties\": {\n        \"dtype\": \"number\",\n        \"std\": 2635.501272505437,\n        \"min\": 0.0,\n        \"max\": 8000.0,\n        \"num_unique_values\": 7,\n        \"samples\": [\n          20.0\n        ],\n        \"semantic_type\": \"\",\n        \"description\": \"\"\n      }\n    },\n    {\n      \"column\": \"25%\",\n      \"properties\": {\n        \"dtype\": \"number\",\n        \"std\": 15585.772652032776,\n        \"min\": 0.0,\n        \"max\": 47204.0,\n        \"num_unique_values\": 9,\n        \"samples\": [\n          601.0\n        ],\n        \"semantic_type\": \"\",\n        \"description\": \"\"\n      }\n    },\n    {\n      \"column\": \"50%\",\n      \"properties\": {\n        \"dtype\": \"number\",\n        \"std\": 22143.187947837243,\n        \"min\": 0.0,\n        \"max\": 67048.0,\n        \"num_unique_values\": 8,\n        \"samples\": [\n          67048.0\n        ],\n        \"semantic_type\": \"\",\n        \"description\": \"\"\n      }\n    },\n    {\n      \"column\": \"75%\",\n      \"properties\": {\n        \"dtype\": \"number\",\n        \"std\": 31645.657343563395,\n        \"min\": 0.0,\n        \"max\": 95789.25,\n        \"num_unique_values\": 8,\n        \"samples\": [\n          95789.25\n        ],\n        \"semantic_type\": \"\",\n        \"description\": \"\"\n      }\n    },\n    {\n      \"column\": \"max\",\n      \"properties\": {\n        \"dtype\": \"number\",\n        \"std\": 2398775.898769962,\n        \"min\": 0.66,\n        \"max\": 7200766.0,\n        \"num_unique_values\": 9,\n        \"samples\": [\n          850.0\n        ],\n        \"semantic_type\": \"\",\n        \"description\": \"\"\n      }\n    }\n  ]\n}"
            }
          },
          "metadata": {},
          "execution_count": 5
        }
      ]
    },
    {
      "cell_type": "markdown",
      "source": [
        "Penjelasan:\n",
        "`df.describe().transpose()` memberikan ringkasan statistik deskriptif seperti nilai min, max, rata-rata, dan standar deviasi untuk setiap kolom numerik dalam DataFrame. Fungsi `transpose()` mengubah formatnya menjadi baris sebagai indeks dan kolom sebagai nilai."
      ],
      "metadata": {
        "id": "tc_A-w-Ymk_q"
      }
    },
    {
      "cell_type": "code",
      "source": [
        "cnt=df['person_education'].value_counts()\n",
        "explode = [0.01] * len(cnt)\n",
        "plt.figure(figsize=(8,6))\n",
        "plt.pie(x=cnt, labels=cnt.index, autopct='%1.2F%%', startangle=90, explode=explode)\n",
        "plt.title('Person Education Distribution')\n",
        "\n",
        "plt.show()"
      ],
      "metadata": {
        "colab": {
          "base_uri": "https://localhost:8080/",
          "height": 521
        },
        "id": "_znHUqqISEKe",
        "outputId": "f95559b9-a078-49e9-b859-f70f77aca4f0"
      },
      "execution_count": null,
      "outputs": [
        {
          "output_type": "display_data",
          "data": {
            "text/plain": [
              "<Figure size 800x600 with 1 Axes>"
            ],
            "image/png": "[encoded data removed]"
          },
          "metadata": {}
        }
      ]
    },
    {
      "cell_type": "markdown",
      "source": [
        "Penjelasan:\n",
        "Kode tersebut membuat pie chart untuk mendistribusikan data `person_education` dalam bentuk persentase.\n",
        "\n",
        "- `cnt` menghitung jumlah frekuensi untuk setiap kategori dalam kolom `'person_education'`.\n",
        "- `explode` menambahkan jarak kecil pada elemen tertentu dalam pie chart untuk memberikan efek visual.\n",
        "- `plt.pie()` membuat pie chart dengan label, persentase, dan tampilan awal.\n",
        "- `plt.title()` menambahkan judul pada pie chart.\n",
        "- `plt.show()` menampilkan pie chart.\n",
        "\n",
        "Hasilnya adalah visualisasi distribusi pendidikan dalam bentuk diagram pie.\n",
        "\n",
        "\n",
        "Penjelasan Diagram Pie:\n",
        "Diagram lingkaran tersebut menunjukkan distribusi kepemilikan rumah berdasarkan tingkat pendidikan. Berikut adalah rinciannya:\n",
        "\n",
        "- **Bachelor (Sarjana):** 29.78%\n",
        "- **Associate (Diploma):** 26.73%\n",
        "- **High School (SMA):** 26.60%\n",
        "- **Master (Magister):** 15.51%\n",
        "- **Doctorate (Doktor):** 1.38%\n",
        "\n",
        "Sarjana memiliki proporsi tertinggi, sementara Doktor memiliki proporsi terendah. Diagram ini menggambarkan bagaimana tingkat pendidikan berkorelasi dengan kepemilikan rumah."
      ],
      "metadata": {
        "id": "0gTd8hbanEDl"
      }
    },
    {
      "cell_type": "code",
      "source": [
        "le = LabelEncoder()\n",
        "df['person_education'] = le.fit_transform(df['person_education'])\n",
        "print(df)"
      ],
      "metadata": {
        "colab": {
          "base_uri": "https://localhost:8080/"
        },
        "id": "GfwK7-BfTSBL",
        "outputId": "0df9a7f3-33d2-4512-e698-a085bc4e4a9f"
      },
      "execution_count": null,
      "outputs": [
        {
          "output_type": "stream",
          "name": "stdout",
          "text": [
            "       person_age person_gender  person_education  person_income  \\\n",
            "0            22.0        female                 4        71948.0   \n",
            "1            21.0        female                 3        12282.0   \n",
            "2            25.0        female                 3        12438.0   \n",
            "3            23.0        female                 1        79753.0   \n",
            "4            24.0          male                 4        66135.0   \n",
            "...           ...           ...               ...            ...   \n",
            "44995        27.0          male                 0        47971.0   \n",
            "44996        37.0        female                 0        65800.0   \n",
            "44997        33.0          male                 0        56942.0   \n",
            "44998        29.0          male                 1        33164.0   \n",
            "44999        24.0          male                 3        51609.0   \n",
            "\n",
            "       person_emp_exp person_home_ownership  loan_amnt        loan_intent  \\\n",
            "0                   0                  RENT    35000.0           PERSONAL   \n",
            "1                   0                   OWN     1000.0          EDUCATION   \n",
            "2                   3              MORTGAGE     5500.0            MEDICAL   \n",
            "3                   0                  RENT    35000.0            MEDICAL   \n",
            "4                   1                  RENT    35000.0            MEDICAL   \n",
            "...               ...                   ...        ...                ...   \n",
            "44995               6                  RENT    15000.0            MEDICAL   \n",
            "44996              17                  RENT     9000.0    HOMEIMPROVEMENT   \n",
            "44997               7                  RENT     2771.0  DEBTCONSOLIDATION   \n",
            "44998               4                  RENT    12000.0          EDUCATION   \n",
            "44999               1                  RENT     6665.0  DEBTCONSOLIDATION   \n",
            "\n",
            "       loan_int_rate  loan_percent_income  cb_person_cred_hist_length  \\\n",
            "0              16.02                 0.49                         3.0   \n",
            "1              11.14                 0.08                         2.0   \n",
            "2              12.87                 0.44                         3.0   \n",
            "3              15.23                 0.44                         2.0   \n",
            "4              14.27                 0.53                         4.0   \n",
            "...              ...                  ...                         ...   \n",
            "44995          15.66                 0.31                         3.0   \n",
            "44996          14.07                 0.14                        11.0   \n",
            "44997          10.02                 0.05                        10.0   \n",
            "44998          13.23                 0.36                         6.0   \n",
            "44999          17.05                 0.13                         3.0   \n",
            "\n",
            "       credit_score previous_loan_defaults_on_file  loan_status  \n",
            "0               561                             No            1  \n",
            "1               504                            Yes            0  \n",
            "2               635                             No            1  \n",
            "3               675                             No            1  \n",
            "4               586                             No            1  \n",
            "...             ...                            ...          ...  \n",
            "44995           645                             No            1  \n",
            "44996           621                             No            1  \n",
            "44997           668                             No            1  \n",
            "44998           604                             No            1  \n",
            "44999           628                             No            1  \n",
            "\n",
            "[45000 rows x 14 columns]\n"
          ]
        }
      ]
    },
    {
      "cell_type": "markdown",
      "source": [
        "Penjelasan:\n",
        "Kode tersebut menggunakan `LabelEncoder` untuk mengubah kategori dalam kolom `'person_education'` menjadi angka (kode numerik).\n",
        "\n",
        "- `le.fit_transform(df['person_education'])` mengonversi kategori ke format numerik.\n",
        "- `print(df)` menampilkan DataFrame dengan kolom `'person_education'` yang telah dikodekan."
      ],
      "metadata": {
        "id": "hip8uG95na58"
      }
    },
    {
      "cell_type": "code",
      "source": [
        "x=df.loc[:, df.columns == \"person_education\"]\n",
        "y=df.loc[:, [\"person_education\"]]"
      ],
      "metadata": {
        "id": "1VsCNH9ATncl"
      },
      "execution_count": null,
      "outputs": []
    },
    {
      "cell_type": "markdown",
      "source": [
        "Penjelasan:\n",
        "Kode tersebut digunakan untuk memisahkan kolom `'person_education'` menjadi dua bentuk:\n",
        "\n",
        "1. `x = df.loc[:, df.columns == \"person_education\"]`  \n",
        "   - Mengambil semua data dari kolom `'person_education'`.\n",
        "\n",
        "2. `y = df.loc[:, [\"person_education\"]]`  \n",
        "   - Mengambil kolom `'person_education'` sebagai DataFrame dengan nama kolomnya tetap.\n",
        "\n",
        "Keduanya bertujuan untuk mengekstrak kolom `'person_education'` dengan cara yang berbeda."
      ],
      "metadata": {
        "id": "lxY8YWhYnhY7"
      }
    },
    {
      "cell_type": "code",
      "source": [
        "scaler = MinMaxScaler()\n",
        "x_scale = scaler.fit_transform(x)\n",
        "x_scale"
      ],
      "metadata": {
        "colab": {
          "base_uri": "https://localhost:8080/"
        },
        "id": "goA1kHdFT32h",
        "outputId": "f2090c26-4c52-40c4-d6f8-a36baa1afe2c"
      },
      "execution_count": null,
      "outputs": [
        {
          "output_type": "execute_result",
          "data": {
            "text/plain": [
              "array([[1.  ],\n",
              "       [0.75],\n",
              "       [0.75],\n",
              "       ...,\n",
              "       [0.  ],\n",
              "       [0.25],\n",
              "       [0.75]])"
            ]
          },
          "metadata": {},
          "execution_count": 9
        }
      ]
    },
    {
      "cell_type": "markdown",
      "source": [
        "Penjelasan:\n",
        "Kode tersebut menggunakan `MinMaxScaler` untuk menskalakan data di `x`.\n",
        "\n",
        "- `scaler.fit_transform(x)` mengubah data `x` agar semua nilai berada dalam rentang tertentu (0 hingga 1).\n",
        "- `x_scaled` adalah data yang sudah diskalakan."
      ],
      "metadata": {
        "id": "p6RDpkuunnSw"
      }
    },
    {
      "cell_type": "code",
      "source": [
        "# num_classes = df['person_education'].nunique()\n",
        "y_categorical = to_categorical(y, num_classes = 0)\n",
        "y_categorical"
      ],
      "metadata": {
        "colab": {
          "base_uri": "https://localhost:8080/"
        },
        "id": "J88Wb1OaZSyH",
        "outputId": "d0a9f59f-c79a-425c-e623-03022e24174f"
      },
      "execution_count": null,
      "outputs": [
        {
          "output_type": "execute_result",
          "data": {
            "text/plain": [
              "array([[0., 0., 0., 0., 1.],\n",
              "       [0., 0., 0., 1., 0.],\n",
              "       [0., 0., 0., 1., 0.],\n",
              "       ...,\n",
              "       [1., 0., 0., 0., 0.],\n",
              "       [0., 1., 0., 0., 0.],\n",
              "       [0., 0., 0., 1., 0.]])"
            ]
          },
          "metadata": {},
          "execution_count": 41
        }
      ]
    },
    {
      "cell_type": "markdown",
      "source": [
        "Penjelasan:\n",
        "Kode tersebut mengubah kolom `y` menjadi format one-hot encoding menggunakan `to_categorical`.\n",
        "\n",
        "- `df['person_education'].nunique()` menghitung jumlah kelas unik dari `'person_education'`.\n",
        "- `to_categorical(y, num_classes=0)` mengubah kategori menjadi format one-hot encoding, tetapi di sini `num_classes=0` akan menyebabkan kesalahan jika tidak diubah sesuai jumlah kelas yang sebenarnya.\n",
        "\n",
        "Pastikan `num_classes` diubah menjadi jumlah kelas unik yang benar dari `'person_education'`."
      ],
      "metadata": {
        "id": "G1Y2dv_9ntlE"
      }
    },
    {
      "cell_type": "code",
      "source": [
        "# Split the data into training and testing sets\n",
        "x_train, x_test, y_train, y_test = train_test_split(x_scale, y_categorical, test_size=0.3, random_state=42)\n",
        "print('x_train:',np.shape(x_train))\n",
        "print('y_train:',np.shape(y_train))\n",
        "print('x_test:',np.shape(x_test))\n",
        "print('y_test:',np.shape(y_test))"
      ],
      "metadata": {
        "colab": {
          "base_uri": "https://localhost:8080/"
        },
        "id": "ZrS2XGMNaQW0",
        "outputId": "6acdf376-0626-46d7-c614-9f5b3e4e4ce5"
      },
      "execution_count": null,
      "outputs": [
        {
          "output_type": "stream",
          "name": "stdout",
          "text": [
            "x_train: (31500, 1)\n",
            "y_train: (31500, 5)\n",
            "x_test: (13500, 1)\n",
            "y_test: (13500, 5)\n"
          ]
        }
      ]
    },
    {
      "cell_type": "markdown",
      "source": [
        "Penjelasan:\n",
        "Kode tersebut membagi dataset menjadi data pelatihan (`x_train`, `y_train`) dan pengujian (`x_test`, `y_test`).\n",
        "\n",
        "- `train_test_split` membagi data dengan ukuran test 30% dan sisa 70% untuk pelatihan.\n",
        "- `print` menampilkan ukuran bentuk dari setiap subset data yang telah dibagi."
      ],
      "metadata": {
        "id": "RB1ccZs7nz6q"
      }
    },
    {
      "cell_type": "code",
      "source": [
        "earlystop=EarlyStopping(\n",
        "    monitor='accuracy', min_delta=0.01, mode='min', verbose=1, patience=20, restore_best_weights=False,\n",
        "    )\n",
        "reducelr=ReduceLROnPlateau(\n",
        "    monitor=\"accuracy\", factor=0.0000001, patience=2,\n",
        "    verbose=1, mode=\"auto\"\n",
        ")"
      ],
      "metadata": {
        "id": "-p6zrOiNag6C"
      },
      "execution_count": null,
      "outputs": []
    },
    {
      "cell_type": "markdown",
      "source": [
        "Penjelasan:\n",
        "Kode tersebut membuat dua callback untuk melatih model deep learning:\n",
        "\n",
        "1. **EarlyStopping**:\n",
        "   - `monitor='accuracy'`: Memantau akurasi selama pelatihan.\n",
        "   - `min_delta=0.01`: Membutuhkan peningkatan minimal 1% pada akurasi untuk melanjutkan pelatihan.\n",
        "   - `patience=20`: Jika tidak ada peningkatan dalam 20 epoch, pelatihan akan dihentikan.\n",
        "   \n",
        "2. **ReduceLROnPlateau**:\n",
        "   - `monitor=\"accuracy\"`: Memantau akurasi untuk mengurangi laju pembelajaran.\n",
        "   - `factor=0.0000001`: Mengurangi laju pembelajaran setiap kali ada peningkatan yang lambat.\n",
        "   - `patience=2`: Mengurangi laju pembelajaran jika tidak ada peningkatan dalam 2 epoch.\n",
        "\n",
        "Keduanya berguna untuk menghindari overfitting dan meningkatkan efisiensi pelatihan model."
      ],
      "metadata": {
        "id": "8TjfaDban41j"
      }
    },
    {
      "cell_type": "code",
      "source": [
        "optimizers = Nadam(\n",
        ")\n",
        "\n",
        "#Train using Selected Models\n",
        "model = Sequential ([\n",
        "    Input(shape=(1,)),\n",
        "    Dense(units=128, activation='elu'),\n",
        "    Dense(units=64, activation='silu'),\n",
        "    Dense(units=32, activation='relu'),\n",
        "    BatchNormalization(momentum=0.1),\n",
        "    Dense(units=num_classes, activation='softmax')\n",
        "])\n",
        "model.summary()"
      ],
      "metadata": {
        "colab": {
          "base_uri": "https://localhost:8080/",
          "height": 323
        },
        "id": "5dJwy3aZajxb",
        "outputId": "032719f1-ab6f-41c6-aea0-445bdda455fa"
      },
      "execution_count": null,
      "outputs": [
        {
          "output_type": "display_data",
          "data": {
            "text/plain": [
              "\u001b[1mModel: \"sequential_8\"\u001b[0m\n"
            ],
            "text/html": [
              "<pre style=\"white-space:pre;overflow-x:auto;line-height:normal;font-family:Menlo,'DejaVu Sans Mono',consolas,'Courier New',monospace\"><span style=\"font-weight: bold\">Model: \"sequential_8\"</span>\n",
              "</pre>\n"
            ]
          },
          "metadata": {}
        },
        {
          "output_type": "display_data",
          "data": {
            "text/plain": [
              "┏━━━━━━━━━━━━━━━━━━━━━━━━━━━━━━━━━━━━━━┳━━━━━━━━━━━━━━━━━━━━━━━━━━━━━┳━━━━━━━━━━━━━━━━━┓\n",
              "┃\u001b[1m \u001b[0m\u001b[1mLayer (type)                        \u001b[0m\u001b[1m \u001b[0m┃\u001b[1m \u001b[0m\u001b[1mOutput Shape               \u001b[0m\u001b[1m \u001b[0m┃\u001b[1m \u001b[0m\u001b[1m        Param #\u001b[0m\u001b[1m \u001b[0m┃\n",
              "┡━━━━━━━━━━━━━━━━━━━━━━━━━━━━━━━━━━━━━━╇━━━━━━━━━━━━━━━━━━━━━━━━━━━━━╇━━━━━━━━━━━━━━━━━┩\n",
              "│ dense_32 (\u001b[38;5;33mDense\u001b[0m)                     │ (\u001b[38;5;45mNone\u001b[0m, \u001b[38;5;34m128\u001b[0m)                 │             \u001b[38;5;34m256\u001b[0m │\n",
              "├──────────────────────────────────────┼─────────────────────────────┼─────────────────┤\n",
              "│ dense_33 (\u001b[38;5;33mDense\u001b[0m)                     │ (\u001b[38;5;45mNone\u001b[0m, \u001b[38;5;34m64\u001b[0m)                  │           \u001b[38;5;34m8,256\u001b[0m │\n",
              "├──────────────────────────────────────┼─────────────────────────────┼─────────────────┤\n",
              "│ dense_34 (\u001b[38;5;33mDense\u001b[0m)                     │ (\u001b[38;5;45mNone\u001b[0m, \u001b[38;5;34m32\u001b[0m)                  │           \u001b[38;5;34m2,080\u001b[0m │\n",
              "├──────────────────────────────────────┼─────────────────────────────┼─────────────────┤\n",
              "│ batch_normalization_8                │ (\u001b[38;5;45mNone\u001b[0m, \u001b[38;5;34m32\u001b[0m)                  │             \u001b[38;5;34m128\u001b[0m │\n",
              "│ (\u001b[38;5;33mBatchNormalization\u001b[0m)                 │                             │                 │\n",
              "├──────────────────────────────────────┼─────────────────────────────┼─────────────────┤\n",
              "│ dense_35 (\u001b[38;5;33mDense\u001b[0m)                     │ (\u001b[38;5;45mNone\u001b[0m, \u001b[38;5;34m5\u001b[0m)                   │             \u001b[38;5;34m165\u001b[0m │\n",
              "└──────────────────────────────────────┴─────────────────────────────┴─────────────────┘\n"
            ],
            "text/html": [
              "<pre style=\"white-space:pre;overflow-x:auto;line-height:normal;font-family:Menlo,'DejaVu Sans Mono',consolas,'Courier New',monospace\">┏━━━━━━━━━━━━━━━━━━━━━━━━━━━━━━━━━━━━━━┳━━━━━━━━━━━━━━━━━━━━━━━━━━━━━┳━━━━━━━━━━━━━━━━━┓\n",
              "┃<span style=\"font-weight: bold\"> Layer (type)                         </span>┃<span style=\"font-weight: bold\"> Output Shape                </span>┃<span style=\"font-weight: bold\">         Param # </span>┃\n",
              "┡━━━━━━━━━━━━━━━━━━━━━━━━━━━━━━━━━━━━━━╇━━━━━━━━━━━━━━━━━━━━━━━━━━━━━╇━━━━━━━━━━━━━━━━━┩\n",
              "│ dense_32 (<span style=\"color: #0087ff; text-decoration-color: #0087ff\">Dense</span>)                     │ (<span style=\"color: #00d7ff; text-decoration-color: #00d7ff\">None</span>, <span style=\"color: #00af00; text-decoration-color: #00af00\">128</span>)                 │             <span style=\"color: #00af00; text-decoration-color: #00af00\">256</span> │\n",
              "├──────────────────────────────────────┼─────────────────────────────┼─────────────────┤\n",
              "│ dense_33 (<span style=\"color: #0087ff; text-decoration-color: #0087ff\">Dense</span>)                     │ (<span style=\"color: #00d7ff; text-decoration-color: #00d7ff\">None</span>, <span style=\"color: #00af00; text-decoration-color: #00af00\">64</span>)                  │           <span style=\"color: #00af00; text-decoration-color: #00af00\">8,256</span> │\n",
              "├──────────────────────────────────────┼─────────────────────────────┼─────────────────┤\n",
              "│ dense_34 (<span style=\"color: #0087ff; text-decoration-color: #0087ff\">Dense</span>)                     │ (<span style=\"color: #00d7ff; text-decoration-color: #00d7ff\">None</span>, <span style=\"color: #00af00; text-decoration-color: #00af00\">32</span>)                  │           <span style=\"color: #00af00; text-decoration-color: #00af00\">2,080</span> │\n",
              "├──────────────────────────────────────┼─────────────────────────────┼─────────────────┤\n",
              "│ batch_normalization_8                │ (<span style=\"color: #00d7ff; text-decoration-color: #00d7ff\">None</span>, <span style=\"color: #00af00; text-decoration-color: #00af00\">32</span>)                  │             <span style=\"color: #00af00; text-decoration-color: #00af00\">128</span> │\n",
              "│ (<span style=\"color: #0087ff; text-decoration-color: #0087ff\">BatchNormalization</span>)                 │                             │                 │\n",
              "├──────────────────────────────────────┼─────────────────────────────┼─────────────────┤\n",
              "│ dense_35 (<span style=\"color: #0087ff; text-decoration-color: #0087ff\">Dense</span>)                     │ (<span style=\"color: #00d7ff; text-decoration-color: #00d7ff\">None</span>, <span style=\"color: #00af00; text-decoration-color: #00af00\">5</span>)                   │             <span style=\"color: #00af00; text-decoration-color: #00af00\">165</span> │\n",
              "└──────────────────────────────────────┴─────────────────────────────┴─────────────────┘\n",
              "</pre>\n"
            ]
          },
          "metadata": {}
        },
        {
          "output_type": "display_data",
          "data": {
            "text/plain": [
              "\u001b[1m Total params: \u001b[0m\u001b[38;5;34m10,885\u001b[0m (42.52 KB)\n"
            ],
            "text/html": [
              "<pre style=\"white-space:pre;overflow-x:auto;line-height:normal;font-family:Menlo,'DejaVu Sans Mono',consolas,'Courier New',monospace\"><span style=\"font-weight: bold\"> Total params: </span><span style=\"color: #00af00; text-decoration-color: #00af00\">10,885</span> (42.52 KB)\n",
              "</pre>\n"
            ]
          },
          "metadata": {}
        },
        {
          "output_type": "display_data",
          "data": {
            "text/plain": [
              "\u001b[1m Trainable params: \u001b[0m\u001b[38;5;34m10,821\u001b[0m (42.27 KB)\n"
            ],
            "text/html": [
              "<pre style=\"white-space:pre;overflow-x:auto;line-height:normal;font-family:Menlo,'DejaVu Sans Mono',consolas,'Courier New',monospace\"><span style=\"font-weight: bold\"> Trainable params: </span><span style=\"color: #00af00; text-decoration-color: #00af00\">10,821</span> (42.27 KB)\n",
              "</pre>\n"
            ]
          },
          "metadata": {}
        },
        {
          "output_type": "display_data",
          "data": {
            "text/plain": [
              "\u001b[1m Non-trainable params: \u001b[0m\u001b[38;5;34m64\u001b[0m (256.00 B)\n"
            ],
            "text/html": [
              "<pre style=\"white-space:pre;overflow-x:auto;line-height:normal;font-family:Menlo,'DejaVu Sans Mono',consolas,'Courier New',monospace\"><span style=\"font-weight: bold\"> Non-trainable params: </span><span style=\"color: #00af00; text-decoration-color: #00af00\">64</span> (256.00 B)\n",
              "</pre>\n"
            ]
          },
          "metadata": {}
        }
      ]
    },
    {
      "cell_type": "markdown",
      "source": [
        "Penjelasan:\n",
        "Kode tersebut membuat model Sequential dengan beberapa lapisan:\n",
        "\n",
        "- `Nadam()` adalah optimasi yang digunakan untuk melatih model.\n",
        "- Model terdiri dari beberapa lapisan:\n",
        "  - `Dense` untuk lapisan penuh dengan fungsi aktivasi seperti `elu`, `silu`, dan `relu`.\n",
        "  - `BatchNormalization` untuk normalisasi data setelah setiap lapisan penuh.\n",
        "  - Lapisan akhir menggunakan `Dense` dengan fungsi aktivasi `softmax` untuk klasifikasi multi-kelas.\n",
        "  \n",
        "- `model.summary()` menampilkan ringkasan arsitektur model dengan jumlah parameter yang dilatih."
      ],
      "metadata": {
        "id": "sA-MAi2RoBNp"
      }
    },
    {
      "cell_type": "code",
      "source": [
        "model.compile(optimizer=optimizers, loss=CategoricalCrossentropy(), metrics=['accuracy'])\n",
        "history = model.fit(x_train, y_train, validation_data=(x_test, y_test), epochs=100, batch_size=64, callbacks=[earlystop, reducelr])"
      ],
      "metadata": {
        "colab": {
          "base_uri": "https://localhost:8080/"
        },
        "id": "IlLk3L4Sam8I",
        "outputId": "74441908-04ed-4b47-f1c4-2754d7b7af11"
      },
      "execution_count": null,
      "outputs": [
        {
          "output_type": "stream",
          "name": "stdout",
          "text": [
            "Epoch 1/100\n",
            "\u001b[1m493/493\u001b[0m \u001b[32m━━━━━━━━━━━━━━━━━━━━\u001b[0m\u001b[37m\u001b[0m \u001b[1m6s\u001b[0m 5ms/step - accuracy: 0.9267 - loss: 0.4155 - val_accuracy: 1.0000 - val_loss: 0.0253 - learning_rate: 0.0010\n",
            "Epoch 2/100\n",
            "\u001b[1m493/493\u001b[0m \u001b[32m━━━━━━━━━━━━━━━━━━━━\u001b[0m\u001b[37m\u001b[0m \u001b[1m2s\u001b[0m 4ms/step - accuracy: 1.0000 - loss: 0.0152 - val_accuracy: 1.0000 - val_loss: 0.0046 - learning_rate: 0.0010\n",
            "Epoch 3/100\n",
            "\u001b[1m493/493\u001b[0m \u001b[32m━━━━━━━━━━━━━━━━━━━━\u001b[0m\u001b[37m\u001b[0m \u001b[1m2s\u001b[0m 4ms/step - accuracy: 1.0000 - loss: 0.0020 - val_accuracy: 1.0000 - val_loss: 0.0026 - learning_rate: 0.0010\n",
            "Epoch 4/100\n",
            "\u001b[1m486/493\u001b[0m \u001b[32m━━━━━━━━━━━━━━━━━━━\u001b[0m\u001b[37m━\u001b[0m \u001b[1m0s\u001b[0m 3ms/step - accuracy: 1.0000 - loss: 6.8962e-04\n",
            "Epoch 4: ReduceLROnPlateau reducing learning rate to 1.0000000474974513e-10.\n",
            "\u001b[1m493/493\u001b[0m \u001b[32m━━━━━━━━━━━━━━━━━━━━\u001b[0m\u001b[37m\u001b[0m \u001b[1m2s\u001b[0m 4ms/step - accuracy: 1.0000 - loss: 6.8807e-04 - val_accuracy: 1.0000 - val_loss: 5.9724e-04 - learning_rate: 0.0010\n",
            "Epoch 5/100\n",
            "\u001b[1m493/493\u001b[0m \u001b[32m━━━━━━━━━━━━━━━━━━━━\u001b[0m\u001b[37m\u001b[0m \u001b[1m2s\u001b[0m 5ms/step - accuracy: 1.0000 - loss: 4.1669e-04 - val_accuracy: 1.0000 - val_loss: 7.9880e-04 - learning_rate: 1.0000e-10\n",
            "Epoch 6/100\n",
            "\u001b[1m480/493\u001b[0m \u001b[32m━━━━━━━━━━━━━━━━━━━\u001b[0m\u001b[37m━\u001b[0m \u001b[1m0s\u001b[0m 5ms/step - accuracy: 1.0000 - loss: 4.2663e-04\n",
            "Epoch 6: ReduceLROnPlateau reducing learning rate to 1.0000000133514319e-17.\n",
            "\u001b[1m493/493\u001b[0m \u001b[32m━━━━━━━━━━━━━━━━━━━━\u001b[0m\u001b[37m\u001b[0m \u001b[1m3s\u001b[0m 5ms/step - accuracy: 1.0000 - loss: 4.2733e-04 - val_accuracy: 1.0000 - val_loss: 0.0039 - learning_rate: 1.0000e-10\n",
            "Epoch 7/100\n",
            "\u001b[1m493/493\u001b[0m \u001b[32m━━━━━━━━━━━━━━━━━━━━\u001b[0m\u001b[37m\u001b[0m \u001b[1m2s\u001b[0m 4ms/step - accuracy: 1.0000 - loss: 3.9878e-04 - val_accuracy: 1.0000 - val_loss: 2.2763e-04 - learning_rate: 1.0000e-17\n",
            "Epoch 8/100\n",
            "\u001b[1m491/493\u001b[0m \u001b[32m━━━━━━━━━━━━━━━━━━━\u001b[0m\u001b[37m━\u001b[0m \u001b[1m0s\u001b[0m 3ms/step - accuracy: 1.0000 - loss: 4.0507e-04\n",
            "Epoch 8: ReduceLROnPlateau reducing learning rate to 9.99999983775159e-25.\n",
            "\u001b[1m493/493\u001b[0m \u001b[32m━━━━━━━━━━━━━━━━━━━━\u001b[0m\u001b[37m\u001b[0m \u001b[1m3s\u001b[0m 4ms/step - accuracy: 1.0000 - loss: 4.0512e-04 - val_accuracy: 1.0000 - val_loss: 0.0010 - learning_rate: 1.0000e-17\n",
            "Epoch 9/100\n",
            "\u001b[1m493/493\u001b[0m \u001b[32m━━━━━━━━━━━━━━━━━━━━\u001b[0m\u001b[37m\u001b[0m \u001b[1m2s\u001b[0m 3ms/step - accuracy: 1.0000 - loss: 3.9556e-04 - val_accuracy: 1.0000 - val_loss: 8.3166e-04 - learning_rate: 1.0000e-24\n",
            "Epoch 10/100\n",
            "\u001b[1m486/493\u001b[0m \u001b[32m━━━━━━━━━━━━━━━━━━━\u001b[0m\u001b[37m━\u001b[0m \u001b[1m0s\u001b[0m 3ms/step - accuracy: 1.0000 - loss: 4.2196e-04\n",
            "Epoch 10: ReduceLROnPlateau reducing learning rate to 1.0000000195414814e-31.\n",
            "\u001b[1m493/493\u001b[0m \u001b[32m━━━━━━━━━━━━━━━━━━━━\u001b[0m\u001b[37m\u001b[0m \u001b[1m2s\u001b[0m 3ms/step - accuracy: 1.0000 - loss: 4.2174e-04 - val_accuracy: 1.0000 - val_loss: 7.0858e-04 - learning_rate: 1.0000e-24\n",
            "Epoch 11/100\n",
            "\u001b[1m493/493\u001b[0m \u001b[32m━━━━━━━━━━━━━━━━━━━━\u001b[0m\u001b[37m\u001b[0m \u001b[1m3s\u001b[0m 5ms/step - accuracy: 1.0000 - loss: 4.1623e-04 - val_accuracy: 1.0000 - val_loss: 3.0311e-04 - learning_rate: 1.0000e-31\n",
            "Epoch 12/100\n",
            "\u001b[1m488/493\u001b[0m \u001b[32m━━━━━━━━━━━━━━━━━━━\u001b[0m\u001b[37m━\u001b[0m \u001b[1m0s\u001b[0m 5ms/step - accuracy: 1.0000 - loss: 3.9821e-04\n",
            "Epoch 12: ReduceLROnPlateau reducing learning rate to 9.999999796611899e-39.\n",
            "\u001b[1m493/493\u001b[0m \u001b[32m━━━━━━━━━━━━━━━━━━━━\u001b[0m\u001b[37m\u001b[0m \u001b[1m3s\u001b[0m 5ms/step - accuracy: 1.0000 - loss: 3.9837e-04 - val_accuracy: 1.0000 - val_loss: 3.9454e-04 - learning_rate: 1.0000e-31\n",
            "Epoch 13/100\n",
            "\u001b[1m493/493\u001b[0m \u001b[32m━━━━━━━━━━━━━━━━━━━━\u001b[0m\u001b[37m\u001b[0m \u001b[1m2s\u001b[0m 4ms/step - accuracy: 1.0000 - loss: 4.3862e-04 - val_accuracy: 1.0000 - val_loss: 0.0020 - learning_rate: 1.0000e-38\n",
            "Epoch 14/100\n",
            "\u001b[1m484/493\u001b[0m \u001b[32m━━━━━━━━━━━━━━━━━━━\u001b[0m\u001b[37m━\u001b[0m \u001b[1m0s\u001b[0m 3ms/step - accuracy: 1.0000 - loss: 4.3082e-04\n",
            "Epoch 14: ReduceLROnPlateau reducing learning rate to 9.999999350456403e-46.\n",
            "\u001b[1m493/493\u001b[0m \u001b[32m━━━━━━━━━━━━━━━━━━━━\u001b[0m\u001b[37m\u001b[0m \u001b[1m2s\u001b[0m 4ms/step - accuracy: 1.0000 - loss: 4.3015e-04 - val_accuracy: 1.0000 - val_loss: 6.5862e-04 - learning_rate: 1.0000e-38\n",
            "Epoch 15/100\n",
            "\u001b[1m493/493\u001b[0m \u001b[32m━━━━━━━━━━━━━━━━━━━━\u001b[0m\u001b[37m\u001b[0m \u001b[1m2s\u001b[0m 4ms/step - accuracy: 1.0000 - loss: 4.1135e-04 - val_accuracy: 1.0000 - val_loss: 0.0023 - learning_rate: 1.4013e-45\n",
            "Epoch 16/100\n",
            "\u001b[1m491/493\u001b[0m \u001b[32m━━━━━━━━━━━━━━━━━━━\u001b[0m\u001b[37m━\u001b[0m \u001b[1m0s\u001b[0m 3ms/step - accuracy: 1.0000 - loss: 4.1357e-04\n",
            "Epoch 16: ReduceLROnPlateau reducing learning rate to 1.401298464324817e-52.\n",
            "\u001b[1m493/493\u001b[0m \u001b[32m━━━━━━━━━━━━━━━━━━━━\u001b[0m\u001b[37m\u001b[0m \u001b[1m2s\u001b[0m 4ms/step - accuracy: 1.0000 - loss: 4.1355e-04 - val_accuracy: 1.0000 - val_loss: 7.3069e-04 - learning_rate: 1.4013e-45\n",
            "Epoch 17/100\n",
            "\u001b[1m493/493\u001b[0m \u001b[32m━━━━━━━━━━━━━━━━━━━━\u001b[0m\u001b[37m\u001b[0m \u001b[1m2s\u001b[0m 4ms/step - accuracy: 1.0000 - loss: 4.0406e-04 - val_accuracy: 1.0000 - val_loss: 2.0568e-04 - learning_rate: 0.0000e+00\n",
            "Epoch 18/100\n",
            "\u001b[1m493/493\u001b[0m \u001b[32m━━━━━━━━━━━━━━━━━━━━\u001b[0m\u001b[37m\u001b[0m \u001b[1m3s\u001b[0m 6ms/step - accuracy: 1.0000 - loss: 4.1306e-04 - val_accuracy: 1.0000 - val_loss: 9.6999e-04 - learning_rate: 0.0000e+00\n",
            "Epoch 19/100\n",
            "\u001b[1m493/493\u001b[0m \u001b[32m━━━━━━━━━━━━━━━━━━━━\u001b[0m\u001b[37m\u001b[0m \u001b[1m5s\u001b[0m 4ms/step - accuracy: 1.0000 - loss: 4.2941e-04 - val_accuracy: 1.0000 - val_loss: 0.0012 - learning_rate: 0.0000e+00\n",
            "Epoch 20/100\n",
            "\u001b[1m493/493\u001b[0m \u001b[32m━━━━━━━━━━━━━━━━━━━━\u001b[0m\u001b[37m\u001b[0m \u001b[1m2s\u001b[0m 4ms/step - accuracy: 1.0000 - loss: 4.2475e-04 - val_accuracy: 1.0000 - val_loss: 0.0013 - learning_rate: 0.0000e+00\n",
            "Epoch 20: early stopping\n"
          ]
        }
      ]
    },
    {
      "cell_type": "markdown",
      "source": [
        "Penjelasaana:\n",
        "Kode tersebut mengompilasi model deep learning dan melatihnya dengan data yang sudah disiapkan:\n",
        "\n",
        "- `model.compile()`:\n",
        "  - `optimizer=optimizers`: Menggunakan optimisasi Nadam.\n",
        "  - `loss=CategoricalCrossentropy()`: Fungsi kerugian untuk klasifikasi multi-kelas.\n",
        "  - `metrics=['accuracy']`: Metrik evaluasi yang digunakan adalah akurasi.\n",
        "\n",
        "- `model.fit()`:\n",
        "  - Melatih model dengan data `x_train` dan `y_train`.\n",
        "  - `validation_data` untuk mengevaluasi model pada data uji `x_test` dan `y_test`.\n",
        "  - `epochs=100` untuk jumlah epoch pelatihan.\n",
        "  - `batch_size=64` untuk ukuran batch yang digunakan.\n",
        "  - `callbacks=[earlystop, reducelr]` untuk menghentikan pelatihan saat akurasi stagnan atau mengurangi laju pembelajaran.\n",
        "\n",
        "Proses ini bertujuan untuk melatih model dengan memperhatikan performa validasi serta mengoptimalkan model berdasarkan evaluasi yang dilakukan pada data validasi."
      ],
      "metadata": {
        "id": "ivC70XvRoLnq"
      }
    },
    {
      "cell_type": "code",
      "source": [
        "pd.DataFrame(history.history).plot(figsize = (10, 8))\n",
        "plt.grid(True)\n",
        "plt.gca().set_ylim(0, 1)\n",
        "plt.show()"
      ],
      "metadata": {
        "colab": {
          "base_uri": "https://localhost:8080/",
          "height": 682
        },
        "id": "6S5ySMPFczEd",
        "outputId": "53edbe18-ac71-4d31-9620-6f7fa307e6c5"
      },
      "execution_count": null,
      "outputs": [
        {
          "output_type": "display_data",
          "data": {
            "text/plain": [
              "<Figure size 1000x800 with 1 Axes>"
            ],
            "image/png": "[encoded data removed]"
          },
          "metadata": {}
        }
      ]
    },
    {
      "cell_type": "markdown",
      "source": [
        "Penjelasan:\n",
        "Kode tersebut membuat plot untuk mengevaluasi performa model selama pelatihan:\n",
        "\n",
        "- `pd.DataFrame(history.history)` mengubah riwayat pelatihan dari `history.history` menjadi DataFrame.\n",
        "- `.plot(figsize=(10, 10))` membuat plot grafik untuk metrik seperti akurasi dan kerugian selama pelatihan.\n",
        "- `plt.grid(True)` menambahkan kisi pada grafik.\n",
        "- `plt.gca().set_ylim(0, 1)` membatasi sumbu Y antara 0 dan 1 untuk skala metrik.\n",
        "- `plt.show()` menampilkan grafik.\n",
        "\n",
        "Tujuan dari plot ini adalah untuk memvisualisasikan perubahan metrik (akuras dan kerugian) selama pelatihan model.\n",
        "\n",
        "\n",
        "Penjelasan grafik\n",
        "Grafik ini menggambarkan tren berbagai metrik selama pelatihan model, termasuk:\n",
        "\n",
        "1. **Accuracy (biru):** Akurasi meningkat tajam di awal pelatihan, mendekati nilai 1 (100%), menunjukkan bahwa model belajar dengan cepat.\n",
        "   \n",
        "2. **Loss (oranye):** Loss turun drastis di awal pelatihan dan mendekati 0, menunjukkan bahwa model berhasil meminimalkan kesalahan prediksi.\n",
        "\n",
        "3. **Val_accuracy (hijau):** Akurasi pada data validasi tidak terlihat jelas di grafik ini. Perlu diperiksa apakah data validasi dihitung pada semua epoch.\n",
        "\n",
        "4. **Val_loss (merah):** Val_loss stabil pada angka rendah setelah penurunan awal, menunjukkan bahwa model generalisasi cukup baik terhadap data validasi.\n",
        "\n",
        "5. **Learning_rate (ungu):** Laju pembelajaran tetap konstan selama pelatihan, tanpa penurunan adaptif.\n",
        "\n",
        "**Kesimpulan:**\n",
        "Model menunjukkan performa yang baik dengan loss yang menurun dan akurasi meningkat cepat. Namun, kurangnya data validasi yang terlihat (val_accuracy dan val_loss) pada grafik menunjukkan perlu dievaluasi apakah ada permasalahan dalam logging atau plotting data validasi."
      ],
      "metadata": {
        "id": "6AeyneWYoRmQ"
      }
    },
    {
      "cell_type": "code",
      "source": [
        "model.evaluate(x_test, y_test, batch_size=1)"
      ],
      "metadata": {
        "colab": {
          "base_uri": "https://localhost:8080/"
        },
        "id": "aHwI8hJYfvc2",
        "outputId": "c01d3228-8aff-405e-b983-8df0568bb42d"
      },
      "execution_count": null,
      "outputs": [
        {
          "output_type": "stream",
          "name": "stdout",
          "text": [
            "\u001b[1m13500/13500\u001b[0m \u001b[32m━━━━━━━━━━━━━━━━━━━━\u001b[0m\u001b[37m\u001b[0m \u001b[1m22s\u001b[0m 2ms/step - accuracy: 1.0000 - loss: 0.0013\n"
          ]
        },
        {
          "output_type": "execute_result",
          "data": {
            "text/plain": [
              "[0.0012882879236713052, 1.0]"
            ]
          },
          "metadata": {},
          "execution_count": 47
        }
      ]
    },
    {
      "cell_type": "code",
      "source": [
        "y_pred = model.predict(x_test)\n",
        "y_pred = (y_pred > 0.5).astype(int)"
      ],
      "metadata": {
        "colab": {
          "base_uri": "https://localhost:8080/"
        },
        "id": "SgpHgSpDf3hs",
        "outputId": "7feb4917-8c9d-445a-cd0b-347e0635eb8d"
      },
      "execution_count": null,
      "outputs": [
        {
          "output_type": "stream",
          "name": "stdout",
          "text": [
            "\u001b[1m422/422\u001b[0m \u001b[32m━━━━━━━━━━━━━━━━━━━━\u001b[0m\u001b[37m\u001b[0m \u001b[1m1s\u001b[0m 2ms/step\n"
          ]
        }
      ]
    },
    {
      "cell_type": "code",
      "source": [
        "# Convert y_pred (which is one-hot encoded) to class indices\n",
        "y_pred_indices = np.argmax(y_pred, axis=1)\n",
        "\n",
        "# If you haven't already, ensure y_test is also in the correct format (class indices)\n",
        "y_test_indices = np.argmax(y_test, axis=1)\n",
        "\n",
        "# Get the class names (labels) from the LabelEncoder\n",
        "target_names = le.classes_\n",
        "\n",
        "# Print the classification report\n",
        "print(classification_report(y_test_indices, y_pred_indices, target_names=target_names, zero_division=0))\n"
      ],
      "metadata": {
        "colab": {
          "base_uri": "https://localhost:8080/"
        },
        "id": "0IhUaTUzf980",
        "outputId": "96006821-5f30-447f-8279-94e3141e7ca6"
      },
      "execution_count": null,
      "outputs": [
        {
          "output_type": "stream",
          "name": "stdout",
          "text": [
            "              precision    recall  f1-score   support\n",
            "\n",
            "   Associate       1.00      1.00      1.00      3645\n",
            "    Bachelor       1.00      1.00      1.00      3964\n",
            "   Doctorate       1.00      1.00      1.00       190\n",
            " High School       1.00      1.00      1.00      3600\n",
            "      Master       1.00      1.00      1.00      2101\n",
            "\n",
            "    accuracy                           1.00     13500\n",
            "   macro avg       1.00      1.00      1.00     13500\n",
            "weighted avg       1.00      1.00      1.00     13500\n",
            "\n"
          ]
        }
      ]
    },
    {
      "cell_type": "code",
      "source": [
        "# Convert y_test and y_pred from one-hot encoding to class indices\n",
        "y_test_indices = np.argmax(y_test, axis=1)\n",
        "y_pred_indices = np.argmax(y_pred, axis=1)\n",
        "\n",
        "# Create confusion matrix\n",
        "conf_matrix = confusion_matrix(y_test_indices, y_pred_indices)\n",
        "\n",
        "# Plot confusion matrix heatmap\n",
        "plt.figure(figsize=(8, 6))\n",
        "sns.heatmap(conf_matrix, annot=True, fmt='d', cmap='Blues',\n",
        "            xticklabels=target_names, yticklabels=target_names)\n",
        "plt.xlabel('Predicted Labels')\n",
        "plt.ylabel('True Labels')\n",
        "plt.title('Confusion Matrix Heatmap')\n",
        "plt.show()\n"
      ],
      "metadata": {
        "colab": {
          "base_uri": "https://localhost:8080/",
          "height": 564
        },
        "id": "XfdMMN4IgA5D",
        "outputId": "03a3197b-4392-4d94-bf6f-2c2c90a8091e"
      },
      "execution_count": null,
      "outputs": [
        {
          "output_type": "display_data",
          "data": {
            "text/plain": [
              "<Figure size 800x600 with 2 Axes>"
            ],
            "image/png": "[encoded data removed]"
          },
          "metadata": {}
        }
      ]
    },
    {
      "cell_type": "markdown",
      "source": [
        "Penjelasn matrik:\n",
        "Gambar tersebut adalah *confusion matrix heatmap* yang menunjukkan hasil prediksi model terhadap lima kelas: **Associate**, **Bachelor**, **Doctorate**, **High School**, dan **Master**. Berikut adalah poin-poin utama:\n",
        "\n",
        "1. **Diagonal Dominan**: Nilai terbesar berada pada diagonal (misalnya, 3645 pada \"Associate\"), menunjukkan bahwa model memprediksi banyak data dengan benar sesuai label aslinya.\n",
        "   \n",
        "2. **Kesalahan Nol**: Tidak ada kesalahan prediksi di luar diagonal. Semua kelas diprediksi secara akurat, artinya model memiliki akurasi 100%.\n",
        "\n",
        "3. **Distribusi Data**: Jumlah data pada tiap kategori berbeda, dengan \"Associate\" (3645), \"Bachelor\" (3964), \"High School\" (3600), dan \"Master\" (2101) memiliki jumlah data lebih banyak dibandingkan \"Doctorate\" (190).\n",
        "\n",
        "**Kesimpulan**: Model bekerja sangat baik dengan tidak ada kesalahan klasifikasi pada set data ini."
      ],
      "metadata": {
        "id": "lpGLgzfSpK0G"
      }
    },
    {
      "cell_type": "code",
      "source": [
        "def evaluate_model(y_test, y_pred, is_binary=True):\n",
        "    # Choose 'binary' for binary classification, otherwise use 'weighted' for multiclass\n",
        "    average_type = 'binary' if is_binary else 'weighted'\n",
        "\n",
        "    # Calculate metrics\n",
        "    accuracy = accuracy_score(y_test, y_pred)\n",
        "    precision = precision_score(y_test, y_pred, average=average_type, zero_division=0)\n",
        "    recall = recall_score(y_test, y_pred, average=average_type)\n",
        "    f1 = f1_score(y_test, y_pred, average=average_type)\n",
        "\n",
        "    # Print results\n",
        "    print(f\"The Accuracy of Prediction : {accuracy:0.3f}\")\n",
        "    print(f\"The Precision of Prediction : {precision:0.3f}\")\n",
        "    print(f\"The Recall of Prediction : {recall:0.3f}\")\n",
        "    print(f\"The F1-Score of Prediction : {f1:0.3f}\")\n",
        "\n",
        "# Example call to the function\n",
        "evaluate_model(y_test, y_pred, is_binary=False)  # Use is_binary=False for multiclass tasks"
      ],
      "metadata": {
        "colab": {
          "base_uri": "https://localhost:8080/"
        },
        "id": "z09aXX_tgQXT",
        "outputId": "fab1c8ef-37b5-4bce-845e-de3943b3973c"
      },
      "execution_count": null,
      "outputs": [
        {
          "output_type": "stream",
          "name": "stdout",
          "text": [
            "The Accuracy of Prediction : 1.000\n",
            "The Precision of Prediction : 1.000\n",
            "The Recall of Prediction : 1.000\n",
            "The F1-Score of Prediction : 1.000\n"
          ]
        }
      ]
    },
    {
      "cell_type": "markdown",
      "source": [
        "Penjelasan:\n",
        "**Hasil evaluasi model Logistic Regression dengan penjelasan berikut:**\n",
        "\n",
        "1. **Accuracy:** 88.78%  \n",
        "   - Model berhasil memprediksi dengan benar sebanyak 88.78% dari total data uji. Ini menunjukkan bahwa secara keseluruhan, model memiliki performa yang sangat baik.\n",
        "\n",
        "2. **Precision:** 75.38%  \n",
        "   - Dari semua prediksi yang diklasifikasikan sebagai \"Approved\", sebanyak 75.38% adalah benar. Precision penting jika kesalahan positif (false positive) harus diminimalkan.\n",
        "\n",
        "3. **Recall:** 73.50%  \n",
        "   - Dari semua kasus yang sebenarnya \"Approved\", model berhasil mendeteksi 73.50%. Recall penting ketika tujuan utama adalah menangkap sebanyak mungkin kasus positif, meskipun ada kemungkinan false positives.\n",
        "\n",
        "4. **F1 Score:** 74.43%  \n",
        "   - Rata-rata harmonik antara Precision dan Recall menunjukkan keseimbangan antara akurasi prediksi positif dan cakupan kasus positif. Skor ini menunjukkan performa model yang stabil dalam mendeteksi kasus yang benar secara konsisten."
      ],
      "metadata": {
        "id": "NRfhrNmgprWQ"
      }
    }
  ]
}